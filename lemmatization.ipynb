{
  "nbformat": 4,
  "nbformat_minor": 0,
  "metadata": {
    "colab": {
      "name": "lemmatization.ipynb",
      "provenance": [],
      "collapsed_sections": [],
      "authorship_tag": "ABX9TyMNbJIv1IA+4zxlUB0CpX4B",
      "include_colab_link": true
    },
    "kernelspec": {
      "name": "python3",
      "display_name": "Python 3"
    },
    "language_info": {
      "name": "python"
    },
    "accelerator": "GPU"
  },
  "cells": [
    {
      "cell_type": "markdown",
      "metadata": {
        "id": "view-in-github",
        "colab_type": "text"
      },
      "source": [
        "<a href=\"https://colab.research.google.com/github/zainali60/NLP/blob/main/lemmatization.ipynb\" target=\"_parent\"><img src=\"https://colab.research.google.com/assets/colab-badge.svg\" alt=\"Open In Colab\"/></a>"
      ]
    },
    {
      "cell_type": "code",
      "metadata": {
        "id": "iV3J3GUg9U9z"
      },
      "source": [
        "import spacy\n",
        "nlp = spacy.load('en_core_web_sm')"
      ],
      "execution_count": 2,
      "outputs": []
    },
    {
      "cell_type": "code",
      "metadata": {
        "id": "8V7V6SU59ZQC"
      },
      "source": [
        "# Import the toolkit and the full Porter Stemmer library\n",
        "import nltk\n",
        "from nltk.stem.porter import *"
      ],
      "execution_count": 4,
      "outputs": []
    },
    {
      "cell_type": "code",
      "metadata": {
        "id": "tkvxBJGwCODC"
      },
      "source": [
        "p_stemmer = PorterStemmer()\n",
        "words = ['run','runner','running','ran','runs','easily','fairly']"
      ],
      "execution_count": 5,
      "outputs": []
    },
    {
      "cell_type": "code",
      "metadata": {
        "colab": {
          "base_uri": "https://localhost:8080/"
        },
        "id": "XV8MJGdICwPw",
        "outputId": "32b76550-22c7-49f2-bed0-f683d4b98bd6"
      },
      "source": [
        "for word in words:\n",
        "    print(word+' --> '+p_stemmer.stem(word))"
      ],
      "execution_count": 7,
      "outputs": [
        {
          "output_type": "stream",
          "name": "stdout",
          "text": [
            "run --> run\n",
            "runner --> runner\n",
            "running --> run\n",
            "ran --> ran\n",
            "runs --> run\n",
            "easily --> easili\n",
            "fairly --> fairli\n"
          ]
        }
      ]
    },
    {
      "cell_type": "code",
      "metadata": {
        "id": "VP-9I3mnCxNQ"
      },
      "source": [
        "#SnowballStemmer\n",
        "from nltk.stem.snowball import SnowballStemmer\n",
        "# The Snowball Stemmer requires that you pass a language parameter\n",
        "s_stemmer = SnowballStemmer(language='english')"
      ],
      "execution_count": 8,
      "outputs": []
    },
    {
      "cell_type": "code",
      "metadata": {
        "id": "AJZoDeJaC-I_"
      },
      "source": [
        "words = ['consolingly']"
      ],
      "execution_count": 9,
      "outputs": []
    },
    {
      "cell_type": "code",
      "metadata": {
        "colab": {
          "base_uri": "https://localhost:8080/"
        },
        "id": "FCZdetBmDKXe",
        "outputId": "a3d7855b-fb37-4d94-f907-4898c2162aa0"
      },
      "source": [
        "print('Porter Stemmer:')\n",
        "for word in words:\n",
        "    print(word+' --> '+p_stemmer.stem(word))"
      ],
      "execution_count": 10,
      "outputs": [
        {
          "output_type": "stream",
          "name": "stdout",
          "text": [
            "Porter Stemmer:\n",
            "consolingly --> consolingli\n"
          ]
        }
      ]
    },
    {
      "cell_type": "code",
      "metadata": {
        "colab": {
          "base_uri": "https://localhost:8080/"
        },
        "id": "BJC0GL5oDTT-",
        "outputId": "e7f090c4-e9c8-4d89-fdd4-612ddba0cc4e"
      },
      "source": [
        "print('Porter2 Stemmer:')\n",
        "for word in words:\n",
        "    print(word+' --> '+s_stemmer.stem(word))\n",
        "    "
      ],
      "execution_count": 11,
      "outputs": [
        {
          "output_type": "stream",
          "name": "stdout",
          "text": [
            "Porter2 Stemmer:\n",
            "consolingly --> consol\n"
          ]
        }
      ]
    },
    {
      "cell_type": "code",
      "metadata": {
        "colab": {
          "base_uri": "https://localhost:8080/"
        },
        "id": "ttzl3UKbD66s",
        "outputId": "527ba75c-0838-438a-858d-70b6445745ca"
      },
      "source": [
        "phrase = 'I am meeting him tomorrow at the meeting'\n",
        "for word in phrase.split():\n",
        "    print(word+' --> '+p_stemmer.stem(word))"
      ],
      "execution_count": 12,
      "outputs": [
        {
          "output_type": "stream",
          "name": "stdout",
          "text": [
            "I --> I\n",
            "am --> am\n",
            "meeting --> meet\n",
            "him --> him\n",
            "tomorrow --> tomorrow\n",
            "at --> at\n",
            "the --> the\n",
            "meeting --> meet\n"
          ]
        }
      ]
    },
    {
      "cell_type": "code",
      "metadata": {
        "colab": {
          "base_uri": "https://localhost:8080/"
        },
        "id": "C2J8gcVTEA_c",
        "outputId": "52613afc-08ec-4003-8352-9284b086bcc1"
      },
      "source": [
        "var1 = nlp(u\"John Adam is one the researcher who invent the direction of way towards success!\")\n",
        "for token in var1:\n",
        "    print(token.text, '\\t', token.pos_, '\\t', token.lemma, '\\t', token.lemma_)"
      ],
      "execution_count": 13,
      "outputs": [
        {
          "output_type": "stream",
          "name": "stdout",
          "text": [
            "John \t PROPN \t 11174346320140919546 \t John\n",
            "Adam \t PROPN \t 14264057329400597350 \t Adam\n",
            "is \t AUX \t 10382539506755952630 \t be\n",
            "one \t NOUN \t 17454115351911680600 \t one\n",
            "the \t DET \t 7425985699627899538 \t the\n",
            "researcher \t NOUN \t 1317581537614213870 \t researcher\n",
            "who \t PRON \t 3876862883474502309 \t who\n",
            "invent \t VERB \t 5373681334090504585 \t invent\n",
            "the \t DET \t 7425985699627899538 \t the\n",
            "direction \t NOUN \t 895834437038626927 \t direction\n",
            "of \t ADP \t 886050111519832510 \t of\n",
            "way \t NOUN \t 6878210874361030284 \t way\n",
            "towards \t ADP \t 9315050841437086371 \t towards\n",
            "success \t NOUN \t 16089821935113899987 \t success\n",
            "! \t PUNCT \t 17494803046312582752 \t !\n"
          ]
        }
      ]
    },
    {
      "cell_type": "code",
      "metadata": {
        "id": "ypOjHhI5EPF7"
      },
      "source": [
        "def show_lemmas(text):\n",
        "    for token in text:\n",
        "        print(f'{token.text:{12}} {token.pos_:{12}} {token.lemma:<{22}} {token.lemma_}')"
      ],
      "execution_count": 25,
      "outputs": []
    },
    {
      "cell_type": "code",
      "metadata": {
        "colab": {
          "base_uri": "https://localhost:8080/"
        },
        "id": "Qvc6gbifEfn6",
        "outputId": "fbd5b739-b6ba-453a-e67b-d582077b28cb"
      },
      "source": [
        "var2 = nlp(u\"John Adam is one the researcher who invent the direction of way towards success!\")\n",
        "show_lemmas(var2)"
      ],
      "execution_count": 26,
      "outputs": [
        {
          "output_type": "stream",
          "name": "stdout",
          "text": [
            "John         PROPN        11174346320140919546   John\n",
            "Adam         PROPN        14264057329400597350   Adam\n",
            "is           AUX          10382539506755952630   be\n",
            "one          NOUN         17454115351911680600   one\n",
            "the          DET          7425985699627899538    the\n",
            "researcher   NOUN         1317581537614213870    researcher\n",
            "who          PRON         3876862883474502309    who\n",
            "invent       VERB         5373681334090504585    invent\n",
            "the          DET          7425985699627899538    the\n",
            "direction    NOUN         895834437038626927     direction\n",
            "of           ADP          886050111519832510     of\n",
            "way          NOUN         6878210874361030284    way\n",
            "towards      ADP          9315050841437086371    towards\n",
            "success      NOUN         16089821935113899987   success\n",
            "!            PUNCT        17494803046312582752   !\n"
          ]
        }
      ]
    },
    {
      "cell_type": "code",
      "metadata": {
        "colab": {
          "base_uri": "https://localhost:8080/"
        },
        "id": "fRTxnL6_EzgZ",
        "outputId": "6a0f83ee-f18e-4e83-c740-b7a9b9852325"
      },
      "source": [
        "var3 = nlp(u\"I am meeting him tomorrow at the meeting.\")\n",
        "show_lemmas(var3)"
      ],
      "execution_count": 27,
      "outputs": [
        {
          "output_type": "stream",
          "name": "stdout",
          "text": [
            "I            PRON         561228191312463089     -PRON-\n",
            "am           AUX          10382539506755952630   be\n",
            "meeting      VERB         6880656908171229526    meet\n",
            "him          PRON         561228191312463089     -PRON-\n",
            "tomorrow     NOUN         3573583789758258062    tomorrow\n",
            "at           ADP          11667289587015813222   at\n",
            "the          DET          7425985699627899538    the\n",
            "meeting      NOUN         14798207169164081740   meeting\n",
            ".            PUNCT        12646065887601541794   .\n"
          ]
        }
      ]
    },
    {
      "cell_type": "code",
      "metadata": {
        "colab": {
          "base_uri": "https://localhost:8080/"
        },
        "id": "zJTtOvXJGXOk",
        "outputId": "6c0c6250-11a3-46e0-8ed9-7db22dce8a51"
      },
      "source": [
        "var4 = nlp(u\"That's of the greate person in the world\")\n",
        "show_lemmas(var4)"
      ],
      "execution_count": 28,
      "outputs": [
        {
          "output_type": "stream",
          "name": "stdout",
          "text": [
            "That         DET          4380130941430378203    that\n",
            "'s           AUX          10382539506755952630   be\n",
            "of           ADP          886050111519832510     of\n",
            "the          DET          7425985699627899538    the\n",
            "greate       ADJ          4429768169814447593    greate\n",
            "person       NOUN         14800503047316267216   person\n",
            "in           ADP          3002984154512732771    in\n",
            "the          DET          7425985699627899538    the\n",
            "world        NOUN         1703489418272052182    world\n"
          ]
        }
      ]
    },
    {
      "cell_type": "code",
      "metadata": {
        "id": "h3CsZHV7G1WU"
      },
      "source": [
        ""
      ],
      "execution_count": null,
      "outputs": []
    }
  ]
}