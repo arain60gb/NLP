{
  "nbformat": 4,
  "nbformat_minor": 0,
  "metadata": {
    "colab": {
      "name": "Stop Words.ipynb",
      "provenance": [],
      "collapsed_sections": [],
      "authorship_tag": "ABX9TyPCoUPcp+APth9nCo2tcEjE",
      "include_colab_link": true
    },
    "kernelspec": {
      "name": "python3",
      "display_name": "Python 3"
    },
    "language_info": {
      "name": "python"
    },
    "accelerator": "GPU"
  },
  "cells": [
    {
      "cell_type": "markdown",
      "metadata": {
        "id": "view-in-github",
        "colab_type": "text"
      },
      "source": [
        "<a href=\"https://colab.research.google.com/github/zainali60/NLP/blob/main/Stop_Words.ipynb\" target=\"_parent\"><img src=\"https://colab.research.google.com/assets/colab-badge.svg\" alt=\"Open In Colab\"/></a>"
      ]
    },
    {
      "cell_type": "code",
      "metadata": {
        "id": "h3CsZHV7G1WU"
      },
      "source": [
        "# Perform standard imports:\n",
        "import spacy\n",
        "nlp = spacy.load('en_core_web_sm')"
      ],
      "execution_count": 29,
      "outputs": []
    },
    {
      "cell_type": "code",
      "metadata": {
        "colab": {
          "base_uri": "https://localhost:8080/"
        },
        "id": "4gG-ehDQHY6g",
        "outputId": "b17eea10-88f8-417b-b828-5c8be6cf505b"
      },
      "source": [
        "import nltk\n",
        "nltk.download('stopwords')"
      ],
      "execution_count": 30,
      "outputs": [
        {
          "output_type": "stream",
          "name": "stdout",
          "text": [
            "[nltk_data] Downloading package stopwords to /root/nltk_data...\n",
            "[nltk_data]   Unzipping corpora/stopwords.zip.\n"
          ]
        },
        {
          "output_type": "execute_result",
          "data": {
            "text/plain": [
              "True"
            ]
          },
          "metadata": {},
          "execution_count": 30
        }
      ]
    },
    {
      "cell_type": "code",
      "metadata": {
        "colab": {
          "base_uri": "https://localhost:8080/"
        },
        "id": "Klt8JIRyHbdx",
        "outputId": "897405d3-52f8-4c7a-c7ce-afbfba8a2e47"
      },
      "source": [
        "print(nlp.Defaults.stop_words)"
      ],
      "execution_count": 31,
      "outputs": [
        {
          "output_type": "stream",
          "name": "stdout",
          "text": [
            "{'had', 'are', 'nor', 'without', 'seems', \"'m\", 'at', 'it', 'now', 'none', 'six', '‘m', 'hence', 'ours', 'yourself', 'his', 'cannot', 'becomes', 'from', 'myself', 'has', 'on', 'beside', 'take', 'call', 'towards', \"'ll\", 'eight', 'been', 'each', 'whose', 'yours', 'you', 'perhaps', 'nevertheless', 'her', 'somewhere', 'five', 'in', 'me', 'although', 'this', 'well', 'various', 'anywhere', 'these', 'too', 'third', 'often', 'itself', 'i', 'n‘t', '‘ll', 'but', 'many', 'might', 'nothing', 'or', 'quite', 'show', 'hereupon', 'fifty', 'if', 'ten', 'almost', 'regarding', 'full', 'the', 'somehow', 'our', 'say', 'wherein', 'them', 'above', 'least', 'along', 'and', 'nowhere', 'sometimes', 'others', \"'re\", 'more', 'same', 'through', 'anyone', 'an', 'really', 'amongst', 'name', '‘d', 'was', 'two', 'hereafter', 'put', 'go', 'before', \"'ve\", 'thence', 'ever', 'one', 'did', 'much', 'thru', 'sometime', 'fifteen', 'whole', '’ll', 'so', 'yet', 'see', 'thereafter', 'a', 'hers', 'however', 'us', 'among', 'noone', 'move', 'not', 'someone', 'namely', 'whereafter', 'rather', 'latter', 'whether', 'never', 'nine', 'out', 'via', 'neither', 'otherwise', 'around', 'toward', 'three', 'then', 'even', 'serious', 'less', 'between', 'onto', 'therefore', 'for', 'while', 'back', 'until', 'sixty', 'upon', 'eleven', 'ca', 'that', 'whither', 'just', 'meanwhile', 'therein', 'whereupon', 'thereby', 'below', 'elsewhere', 'only', 'enough', \"'s\", 'former', 'part', 'should', 'mine', 'give', 'during', 'twenty', 'beyond', 'why', '‘s', 'whereby', 'mostly', 'get', '‘ve', 'whom', 'himself', 'either', 'to', 'anyhow', 'forty', 'still', 'where', 'last', 'no', 'some', 'off', 'throughout', 'such', 'whenever', 'their', 'became', 'here', 'next', 'top', 'there', 'themselves', 'due', 'across', 'everywhere', 'which', 'behind', 'be', 'wherever', 'most', 'is', 'unless', 'he', 'becoming', 'with', 'will', 'another', 'when', 'seemed', 'must', 'every', 'ourselves', '’ve', 'seem', 'by', 'indeed', 'both', '’m', 'something', 'do', \"'d\", 'anything', 'empty', 'else', \"n't\", 'because', 'would', 'though', '’s', 'other', '’re', 'whence', 'those', 'how', 'made', 'does', 'all', 'can', 'am', 'my', 'your', 'its', 'being', 'also', 'thus', 'of', 'latterly', 'whatever', 'herein', '‘re', 'make', '’d', 'front', 'everyone', 'per', 'up', 'yourselves', 'bottom', 'were', 'could', 'anyway', 'together', 'four', 'under', 'than', 'about', 'hundred', 'doing', 'side', 'besides', 'have', 'after', 'over', 'nobody', 'n’t', 'whoever', 'further', 'keep', 'formerly', 'into', 'as', 'everything', 'using', 'alone', 'once', 'since', 'within', 're', 'what', 'afterwards', 'few', 'they', 'seeming', 'hereby', 'very', 'him', 'several', 'own', 'twelve', 'who', 'we', 'done', 'moreover', 'please', 'amount', 'become', 'any', 'against', 'beforehand', 'again', 'herself', 'always', 'already', 'thereupon', 'she', 'first', 'whereas', 'except', 'down', 'used', 'may'}\n"
          ]
        }
      ]
    },
    {
      "cell_type": "code",
      "metadata": {
        "colab": {
          "base_uri": "https://localhost:8080/"
        },
        "id": "xFedkQQBHfkA",
        "outputId": "acbf77c2-e5b2-46f7-cf8d-05f7d2c6a170"
      },
      "source": [
        "len(nlp.Defaults.stop_words)"
      ],
      "execution_count": 32,
      "outputs": [
        {
          "output_type": "execute_result",
          "data": {
            "text/plain": [
              "326"
            ]
          },
          "metadata": {},
          "execution_count": 32
        }
      ]
    },
    {
      "cell_type": "markdown",
      "metadata": {
        "id": "87oJpRy6H4P5"
      },
      "source": [
        "To see if a word is a stop word"
      ]
    },
    {
      "cell_type": "code",
      "metadata": {
        "colab": {
          "base_uri": "https://localhost:8080/"
        },
        "id": "fa6eneFDHwa_",
        "outputId": "8f229018-4ce9-46bf-8377-d3d3f1f4d9e4"
      },
      "source": [
        "nlp.vocab['myself'].is_stop"
      ],
      "execution_count": 33,
      "outputs": [
        {
          "output_type": "execute_result",
          "data": {
            "text/plain": [
              "True"
            ]
          },
          "metadata": {},
          "execution_count": 33
        }
      ]
    },
    {
      "cell_type": "code",
      "metadata": {
        "colab": {
          "base_uri": "https://localhost:8080/"
        },
        "id": "vo-G3yi3H7lP",
        "outputId": "beddd9c5-beb9-40a1-cfcd-a3f3b8202e6e"
      },
      "source": [
        "nlp.vocab['friend'].is_stop"
      ],
      "execution_count": 34,
      "outputs": [
        {
          "output_type": "execute_result",
          "data": {
            "text/plain": [
              "False"
            ]
          },
          "metadata": {},
          "execution_count": 34
        }
      ]
    },
    {
      "cell_type": "code",
      "metadata": {
        "id": "MzED3khWIB0f"
      },
      "source": [
        "# Add the word to the set of stop words. Use lowercase!\n",
        "nlp.Defaults.stop_words.add('friend')\n",
        "# Set the stop_word tag on the lexeme\n",
        "nlp.vocab['friend'].is_stop = True"
      ],
      "execution_count": 38,
      "outputs": []
    },
    {
      "cell_type": "code",
      "metadata": {
        "colab": {
          "base_uri": "https://localhost:8080/"
        },
        "id": "0iymVxWjIM0e",
        "outputId": "944876ee-935b-41a2-e1e4-e2b94724408b"
      },
      "source": [
        "nlp.vocab['friend'].is_stop"
      ],
      "execution_count": 39,
      "outputs": [
        {
          "output_type": "execute_result",
          "data": {
            "text/plain": [
              "True"
            ]
          },
          "metadata": {},
          "execution_count": 39
        }
      ]
    },
    {
      "cell_type": "code",
      "metadata": {
        "colab": {
          "base_uri": "https://localhost:8080/"
        },
        "id": "2njCzwd7IPae",
        "outputId": "d012c73f-7242-4791-ca50-93973441af60"
      },
      "source": [
        "len(nlp.Defaults.stop_words)"
      ],
      "execution_count": 40,
      "outputs": [
        {
          "output_type": "execute_result",
          "data": {
            "text/plain": [
              "327"
            ]
          },
          "metadata": {},
          "execution_count": 40
        }
      ]
    },
    {
      "cell_type": "markdown",
      "metadata": {
        "id": "WPa2Glc6I-Ot"
      },
      "source": [
        "To remove a stop word"
      ]
    },
    {
      "cell_type": "code",
      "metadata": {
        "id": "NfnqWtMEIczN"
      },
      "source": [
        "# Remove the word from the set of stop words\n",
        "nlp.Defaults.stop_words.remove('friend')\n",
        "\n",
        "# Remove the stop_word tag from the lexeme\n",
        "nlp.vocab['friend'].is_stop = False"
      ],
      "execution_count": 41,
      "outputs": []
    },
    {
      "cell_type": "code",
      "metadata": {
        "colab": {
          "base_uri": "https://localhost:8080/"
        },
        "id": "ZXIvfHdFJDVr",
        "outputId": "8b65c701-b1c9-44ff-d384-6fe1048240e1"
      },
      "source": [
        "len(nlp.Defaults.stop_words)"
      ],
      "execution_count": 42,
      "outputs": [
        {
          "output_type": "execute_result",
          "data": {
            "text/plain": [
              "326"
            ]
          },
          "metadata": {},
          "execution_count": 42
        }
      ]
    },
    {
      "cell_type": "code",
      "metadata": {
        "colab": {
          "base_uri": "https://localhost:8080/"
        },
        "id": "skawp6i2JGx7",
        "outputId": "04683b5d-6d26-4e06-84b8-15c89e2b8df0"
      },
      "source": [
        "nlp.vocab['friend'].is_stop"
      ],
      "execution_count": 43,
      "outputs": [
        {
          "output_type": "execute_result",
          "data": {
            "text/plain": [
              "False"
            ]
          },
          "metadata": {},
          "execution_count": 43
        }
      ]
    },
    {
      "cell_type": "code",
      "metadata": {
        "colab": {
          "base_uri": "https://localhost:8080/"
        },
        "id": "Wxn5PQE2JI2L",
        "outputId": "682ba95d-aebe-43f7-bc3a-550a602488df"
      },
      "source": [
        "import string\n",
        "import re\n",
        "import nltk\n",
        "nltk.download('punkt')\n",
        "from nltk import word_tokenize,sent_tokenize\n",
        "from nltk.corpus import stopwords"
      ],
      "execution_count": 44,
      "outputs": [
        {
          "output_type": "stream",
          "name": "stdout",
          "text": [
            "[nltk_data] Downloading package punkt to /root/nltk_data...\n",
            "[nltk_data]   Unzipping tokenizers/punkt.zip.\n"
          ]
        }
      ]
    },
    {
      "cell_type": "code",
      "metadata": {
        "id": "15-nNiMyJR17"
      },
      "source": [
        "# load data\n",
        "text = 'The Quick brown fox jump over the lazy dog!'"
      ],
      "execution_count": 45,
      "outputs": []
    },
    {
      "cell_type": "code",
      "metadata": {
        "colab": {
          "base_uri": "https://localhost:8080/"
        },
        "id": "EpvRc-5nJc86",
        "outputId": "fe9cba61-22f3-4403-c698-747d4b9c1517"
      },
      "source": [
        "# split into words\n",
        "tokens = word_tokenize(text)\n",
        "print(tokens)"
      ],
      "execution_count": 46,
      "outputs": [
        {
          "output_type": "stream",
          "name": "stdout",
          "text": [
            "['The', 'Quick', 'brown', 'fox', 'jump', 'over', 'the', 'lazy', 'dog', '!']\n"
          ]
        }
      ]
    },
    {
      "cell_type": "code",
      "metadata": {
        "colab": {
          "base_uri": "https://localhost:8080/"
        },
        "id": "z9l1sM3cJlKa",
        "outputId": "4bffff0f-bcfd-484d-cd77-72ecbb03ce66"
      },
      "source": [
        "# convert to lower case\n",
        "tokens = [w.lower() for w in tokens]\n",
        "print(tokens)"
      ],
      "execution_count": 47,
      "outputs": [
        {
          "output_type": "stream",
          "name": "stdout",
          "text": [
            "['the', 'quick', 'brown', 'fox', 'jump', 'over', 'the', 'lazy', 'dog', '!']\n"
          ]
        }
      ]
    },
    {
      "cell_type": "code",
      "metadata": {
        "colab": {
          "base_uri": "https://localhost:8080/"
        },
        "id": "y1jCrmJoJrk5",
        "outputId": "415276b3-2093-4c0b-ae6e-0297f748c3cd"
      },
      "source": [
        "# prepare regex for char filtering\n",
        "re_punc = re.compile('[%s]' % re.escape(string.punctuation))\n",
        "print(re_punc)"
      ],
      "execution_count": 48,
      "outputs": [
        {
          "output_type": "stream",
          "name": "stdout",
          "text": [
            "re.compile('[!\"\\\\#\\\\$%\\\\&\\'\\\\(\\\\)\\\\*\\\\+,\\\\-\\\\./:;<=>\\\\?@\\\\[\\\\\\\\\\\\]\\\\^_`\\\\{\\\\|\\\\}\\\\~]')\n"
          ]
        }
      ]
    },
    {
      "cell_type": "code",
      "metadata": {
        "colab": {
          "base_uri": "https://localhost:8080/"
        },
        "id": "UlfP3voHJ1BJ",
        "outputId": "755e2450-5d62-4f81-904b-79a9fc552416"
      },
      "source": [
        "# remove punctuation from each word\n",
        "stripped = [re_punc.sub('', w) for w in tokens]\n",
        "print(stripped)"
      ],
      "execution_count": 49,
      "outputs": [
        {
          "output_type": "stream",
          "name": "stdout",
          "text": [
            "['the', 'quick', 'brown', 'fox', 'jump', 'over', 'the', 'lazy', 'dog', '']\n"
          ]
        }
      ]
    },
    {
      "cell_type": "code",
      "metadata": {
        "colab": {
          "base_uri": "https://localhost:8080/"
        },
        "id": "uxTjMGdDJ_lI",
        "outputId": "cfdf57f0-9c62-4459-bf2a-14fc7f580ce2"
      },
      "source": [
        "# remove remaining tokens that are not alphabetic\n",
        "words = [word for word in stripped if word.isalpha()]\n",
        "print(words)"
      ],
      "execution_count": 50,
      "outputs": [
        {
          "output_type": "stream",
          "name": "stdout",
          "text": [
            "['the', 'quick', 'brown', 'fox', 'jump', 'over', 'the', 'lazy', 'dog']\n"
          ]
        }
      ]
    },
    {
      "cell_type": "code",
      "metadata": {
        "colab": {
          "base_uri": "https://localhost:8080/"
        },
        "id": "6l9M3sZtKIVo",
        "outputId": "591e7aab-68e0-42fa-91e3-1d0d8140cbe7"
      },
      "source": [
        "# filter out non-stop words\n",
        "stop_words = set(stopwords.words('english'))\n",
        "words = [w for w in words if not w in stop_words]\n",
        "print(words)"
      ],
      "execution_count": 51,
      "outputs": [
        {
          "output_type": "stream",
          "name": "stdout",
          "text": [
            "['quick', 'brown', 'fox', 'jump', 'lazy', 'dog']\n"
          ]
        }
      ]
    },
    {
      "cell_type": "code",
      "metadata": {
        "colab": {
          "base_uri": "https://localhost:8080/"
        },
        "id": "DlMkLdYlKSIn",
        "outputId": "1d31dbf6-5d8b-4e1d-a9a3-0a2c82a6c4ff"
      },
      "source": [
        "nlp.vocab['dog'].is_stop"
      ],
      "execution_count": 52,
      "outputs": [
        {
          "output_type": "execute_result",
          "data": {
            "text/plain": [
              "False"
            ]
          },
          "metadata": {},
          "execution_count": 52
        }
      ]
    },
    {
      "cell_type": "code",
      "metadata": {
        "id": "mGWaLu-fKUe3"
      },
      "source": [
        ""
      ],
      "execution_count": null,
      "outputs": []
    }
  ]
}